{
  "nbformat": 4,
  "nbformat_minor": 0,
  "metadata": {
    "colab": {
      "provenance": []
    },
    "kernelspec": {
      "name": "python3",
      "display_name": "Python 3"
    },
    "language_info": {
      "name": "python"
    }
  },
  "cells": [
    {
      "cell_type": "code",
      "execution_count": 1,
      "metadata": {
        "id": "SDV-d49TBjyO"
      },
      "outputs": [],
      "source": [
        "# 1\n",
        "import numpy as np\n",
        "X_train = np.array([\n",
        "    [0.1, 0.2, 0.3],\n",
        "    [0.2, 0.3, 0.4],\n",
        "    [0.3, 0.4, 0.5],\n",
        "    [0.5, 0.6, 0.7],\n",
        "    [0.1, 0.3, 0.5],\n",
        "    [0.2, 0.4, 0.6],\n",
        "    [0.3, 0.5, 0.7],\n",
        "    [0.4, 0.6, 0.8],\n",
        "    [0.5, 0.7, 0.1]\n",
        "])\n",
        "\n",
        "y_train = np.array([0.14, 0.20, 0.26, 0.38, 0.22, 0.28, 0.34, 0.40, 0.22])\n",
        ""
      ]
    },
    {
      "cell_type": "code",
      "source": [
        "X_test = np.array([\n",
        "    [0.6, 0.7, 0.8],\n",
        "    [0.7, 0.8, 0.9]\n",
        "])\n",
        "\n",
        "y_test = np.array([0.44, 0.50])\n",
        ""
      ],
      "metadata": {
        "id": "CNLzDpA8BoB7"
      },
      "execution_count": 2,
      "outputs": []
    },
    {
      "cell_type": "code",
      "source": [
        "np.random.seed(42)\n",
        "weights = np.random.rand(3)\n",
        "bias = np.random.rand(1)\n",
        ""
      ],
      "metadata": {
        "id": "inrgUQ3vBsb5"
      },
      "execution_count": 3,
      "outputs": []
    },
    {
      "cell_type": "code",
      "source": [
        "\n",
        "learning_rate = 0.01\n",
        "epochs = 100"
      ],
      "metadata": {
        "id": "lld9UvnQBuvC"
      },
      "execution_count": 4,
      "outputs": []
    },
    {
      "cell_type": "code",
      "source": [
        "for epoch in range(epochs):\n",
        "    y_pred = np.dot(X_train, weights) + bias\n",
        "    error = y_pred - y_train\n",
        ""
      ],
      "metadata": {
        "id": "HUOKb7A2BySS"
      },
      "execution_count": 5,
      "outputs": []
    },
    {
      "cell_type": "code",
      "source": [
        "dW = np.dot(X_train.T, error) / len(X_train)\n",
        "dB = np.sum(error) / len(X_train)"
      ],
      "metadata": {
        "id": "SIkBooUSB0fd"
      },
      "execution_count": 6,
      "outputs": []
    },
    {
      "cell_type": "code",
      "source": [
        "weights -= learning_rate * dW\n",
        "bias -= learning_rate * dB\n",
        ""
      ],
      "metadata": {
        "id": "jy5tiVu3B4Hs"
      },
      "execution_count": 7,
      "outputs": []
    },
    {
      "cell_type": "code",
      "source": [
        "if epoch % 100 == 0:\n",
        "  mse = np.mean(error ** 2)\n",
        "  print(f\"Epoch {epoch}: MSE = {mse:.6f}\")"
      ],
      "metadata": {
        "id": "Kysd7afKB69v"
      },
      "execution_count": 8,
      "outputs": []
    },
    {
      "cell_type": "code",
      "source": [
        "def mean_squared_error(X, y):\n",
        "    y_pred = np.dot(X, weights) + bias\n",
        "    return np.mean((y_pred - y) ** 2)\n",
        "\n",
        "train_mse = mean_squared_error(X_train, y_train)\n",
        "test_mse = mean_squared_error(X_test, y_test)\n",
        "\n",
        "print(f\"Final Training MSE: {train_mse:.6f}\")\n",
        "print(f\"Final Test MSE: {test_mse:.6f}\")"
      ],
      "metadata": {
        "colab": {
          "base_uri": "https://localhost:8080/"
        },
        "id": "YUocu-ueB9Bc",
        "outputId": "55e0c2e0-deed-4361-b4e9-d9ba17d91dc7"
      },
      "execution_count": 9,
      "outputs": [
        {
          "output_type": "stream",
          "name": "stdout",
          "text": [
            "Final Training MSE: 1.507408\n",
            "Final Test MSE: 2.836631\n"
          ]
        }
      ]
    },
    {
      "cell_type": "code",
      "source": [
        "user_input = np.array(list(map(float, input(\"Enter x1, x2, x3: \").split())))\n",
        "predicted_output = np.dot(user_input, weights) + bias\n",
        "print(f\"Predicted Output: {predicted_output[0]:.6f}\")"
      ],
      "metadata": {
        "colab": {
          "base_uri": "https://localhost:8080/"
        },
        "id": "cDmmfvWeCunx",
        "outputId": "1118ff2b-bbd3-4990-d325-2cb8b4e061cb"
      },
      "execution_count": 12,
      "outputs": [
        {
          "output_type": "stream",
          "name": "stdout",
          "text": [
            "Enter x1, x2, x3: 1 2 3\n",
            "Predicted Output: 5.023402\n"
          ]
        }
      ]
    },
    {
      "cell_type": "code",
      "source": [
        "import numpy as np\n",
        "\n",
        "def sigmoid(x):\n",
        "    return 1 / (1 + np.exp(-x))\n",
        "\n",
        "def sigmoid_derivative(x):\n",
        "    return x * (1 - x)\n",
        "\n",
        "def train_ann(X, y, epochs=1000, learning_rate=0.1):\n",
        "    np.random.seed(42)\n",
        "    weights = np.random.rand(X.shape[1])\n",
        "    bias = np.random.rand()\n",
        "\n",
        "    for _ in range(epochs):\n",
        "        linear_output = np.dot(X, weights) + bias\n",
        "        y_pred = sigmoid(linear_output)\n",
        "\n",
        "        error = y - y_pred\n",
        "\n",
        "        d_weights = np.dot(X.T, error * sigmoid_derivative(y_pred)) / X.shape[0]\n",
        "        d_bias = np.sum(error * sigmoid_derivative(y_pred)) / X.shape[0]\n",
        "\n",
        "        weights += learning_rate * d_weights\n",
        "        bias += learning_rate * d_bias\n",
        "\n",
        "    return weights, bias\n",
        "\n",
        "def mean_squared_error(y_true, y_pred):\n",
        "    return np.mean((y_true - y_pred) ** 2)\n",
        "\n",
        "def predict(X, weights, bias):\n",
        "    return sigmoid(np.dot(X, weights) + bias)\n",
        "train_X = np.array([\n",
        "    [0.1, 0.2, 0.3],\n",
        "    [0.2, 0.3, 0.4],\n",
        "    [0.3, 0.4, 0.5],\n",
        "    [0.5, 0.6, 0.7],\n",
        "    [0.1, 0.3, 0.5],\n",
        "    [0.2, 0.4, 0.6],\n",
        "    [0.3, 0.5, 0.7],\n",
        "    [0.4, 0.6, 0.8],\n",
        "    [0.5, 0.7, 0.1]\n",
        "])\n",
        "train_y = np.array([0.5349, 0.5498, 0.5646, 0.5939, 0.5548, 0.5695, 0.5842, 0.5987, 0.5548])\n",
        "\n",
        "weights, bias = train_ann(train_X, train_y)\n",
        "\n",
        "test_X = np.array([\n",
        "    [0.6, 0.7, 0.8],\n",
        "    [0.7, 0.8, 0.9]\n",
        "])\n",
        "test_y = np.array([0.6083, 0.6225])\n",
        "\n",
        "train_predictions = predict(train_X, weights, bias)\n",
        "test_predictions = predict(test_X, weights, bias)\n",
        "\n",
        "train_mse = mean_squared_error(train_y, train_predictions)\n",
        "test_mse = mean_squared_error(test_y, test_predictions)\n",
        "\n",
        "print(f\"Training MSE: {train_mse}\")\n",
        "print(f\"Testing MSE: {test_mse}\")\n",
        "\n",
        "x_input = np.array([float(i) for i in input(\"Enter three values separated by space: \").split()])\n",
        "output = predict(x_input, weights, bias)\n",
        "print(f\"Predicted Output: {output}\")"
      ],
      "metadata": {
        "colab": {
          "base_uri": "https://localhost:8080/"
        },
        "id": "8yCtoTNPC6VA",
        "outputId": "cc33e671-cc34-4316-86b9-a2c77af4dbdd"
      },
      "execution_count": 13,
      "outputs": [
        {
          "output_type": "stream",
          "name": "stdout",
          "text": [
            "Training MSE: 0.00019827266619758076\n",
            "Testing MSE: 0.0007241244444640872\n",
            "Enter three values separated by space: 3 5 7\n",
            "Predicted Output: 0.9943498626594929\n"
          ]
        }
      ]
    }
  ]
}